{
  "nbformat": 4,
  "nbformat_minor": 0,
  "metadata": {
    "colab": {
      "name": "Untitled1.ipynb",
      "provenance": [],
      "authorship_tag": "ABX9TyNTtxLDCJlliRuBfsHvZQTt",
      "include_colab_link": true
    },
    "kernelspec": {
      "name": "python3",
      "display_name": "Python 3"
    }
  },
  "cells": [
    {
      "cell_type": "markdown",
      "metadata": {
        "id": "view-in-github",
        "colab_type": "text"
      },
      "source": [
        "<a href=\"https://colab.research.google.com/github/MahaJamali/GlobalAIHubPythonCourse/blob/main/Day2-HW.ipynb\" target=\"_parent\"><img src=\"https://colab.research.google.com/assets/colab-badge.svg\" alt=\"Open In Colab\"/></a>"
      ]
    },
    {
      "cell_type": "markdown",
      "metadata": {
        "id": "J6ALrC_MUHZt"
      },
      "source": [
        "Question 1 - Create list and swap the second half of list with first half of the list and print it on screen.                                            \r\n",
        "Solution : I will create a list with 10 elements by using range function. I will add a new temporary variable for swapping and will use for loop to swap values of list. "
      ]
    },
    {
      "cell_type": "code",
      "metadata": {
        "colab": {
          "base_uri": "https://localhost:8080/"
        },
        "id": "jD7B28XKVOi3",
        "outputId": "9b1783f8-29a8-4a2e-ca2c-da97fd65ed19"
      },
      "source": [
        "numberslist = list(range(10))\r\n",
        "#print the list before swapping\r\n",
        "print(\"List before swapping :\", numberslist)\r\n",
        "\r\n",
        "temp    = numberslist[0]\r\n",
        "listlen = len(numberslist)\r\n",
        "for i in range(int(listlen/2)):\r\n",
        "  temp    = numberslist[i]\r\n",
        "  numberslist[i]= numberslist[int(listlen/2)+ i]\r\n",
        "  numberslist[int(listlen/2)+ i] = temp\r\n",
        "  \r\n",
        "#print the list after swapping\r\n",
        "print(\"List after swapping :\", numberslist)\r\n",
        "\r\n",
        "\r\n"
      ],
      "execution_count": 8,
      "outputs": [
        {
          "output_type": "stream",
          "text": [
            "List before swapping : [0, 1, 2, 3, 4, 5, 6, 7, 8, 9]\n",
            "List after swapping : [5, 6, 7, 8, 9, 0, 1, 2, 3, 4]\n"
          ],
          "name": "stdout"
        }
      ]
    },
    {
      "cell_type": "markdown",
      "metadata": {
        "id": "MLLhl3FwbO9-"
      },
      "source": [
        "Question 2 : Ask the user for the input a single digit integar number to a variable n. Print out all even numbers from 0 to n (including n).                  \r\n",
        "Solution : Create a variable with number n and ask user input for a integar value. then use for loop along with mod condition in it.\r\n"
      ]
    },
    {
      "cell_type": "code",
      "metadata": {
        "colab": {
          "base_uri": "https://localhost:8080/"
        },
        "id": "BMu8jQ1Zb8B4",
        "outputId": "942e1c20-336b-4bb7-a1a1-1239c624e30b"
      },
      "source": [
        "n = int(input(\"Please enter a single digit integar : \"))\r\n",
        "\r\n",
        "if n < 10:\r\n",
        "  for i in range(n+1):\r\n",
        "    if i % 2 == 0:\r\n",
        "      print(i)\r\n",
        "else:\r\n",
        "  print(\"Please enter only single digit number\")\r\n"
      ],
      "execution_count": 38,
      "outputs": [
        {
          "output_type": "stream",
          "text": [
            "Please enter a single digit integar : 3\n",
            "0\n",
            "2\n"
          ],
          "name": "stdout"
        }
      ]
    }
  ]
}